{
 "cells": [
  {
   "cell_type": "markdown",
   "metadata": {
    "slideshow": {
     "slide_type": "slide"
    }
   },
   "source": [
    "# Demo code\n",
    "### Talk on AI/ML Capabilities of Amazon Web Services"
   ]
  },
  {
   "cell_type": "code",
   "execution_count": null,
   "metadata": {
    "slideshow": {
     "slide_type": "subslide"
    }
   },
   "outputs": [],
   "source": [
    "import boto3\n",
    "import json\n",
    "from IPython.display import Audio\n",
    "from IPython.display import Image"
   ]
  },
  {
   "cell_type": "markdown",
   "metadata": {
    "slideshow": {
     "slide_type": "slide"
    }
   },
   "source": [
    "### Amazon Polly\n",
    "Polly turn text to life like speech using deep learning.  Service information can be found at https://aws.amazon.com/polly"
   ]
  },
  {
   "cell_type": "code",
   "execution_count": null,
   "metadata": {},
   "outputs": [],
   "source": [
    "pollysvc = boto3.client(\"polly\")"
   ]
  },
  {
   "cell_type": "markdown",
   "metadata": {
    "slideshow": {
     "slide_type": "subslide"
    }
   },
   "source": [
    "### List voices that Polly has"
   ]
  },
  {
   "cell_type": "code",
   "execution_count": null,
   "metadata": {
    "slideshow": {
     "slide_type": "fragment"
    }
   },
   "outputs": [],
   "source": [
    "voices_in = pollysvc.describe_voices(LanguageCode='en-GB')\n",
    "print(\"Voice choices in Indian English are: \"),\n",
    "print(json.dumps(voices_in, indent=4, sort_keys=True))"
   ]
  },
  {
   "cell_type": "markdown",
   "metadata": {
    "slideshow": {
     "slide_type": "subslide"
    }
   },
   "source": [
    "### Lets get Aditi to say something..."
   ]
  },
  {
   "cell_type": "code",
   "execution_count": null,
   "metadata": {
    "slideshow": {
     "slide_type": "fragment"
    }
   },
   "outputs": [],
   "source": [
    "speech = pollysvc.synthesize_speech(\n",
    "    OutputFormat='mp3',\n",
    "    Text='Hello everyone, this is a simple demo of polly using the voice, Aditi.',\n",
    "    VoiceId='Aditi'\n",
    ")\n",
    "\n",
    "print(speech)\n",
    "audio = speech['AudioStream'].read()\n",
    "Audio(audio, autoplay=True)"
   ]
  },
  {
   "cell_type": "markdown",
   "metadata": {},
   "source": [
    "### now Raveena has something to say too..."
   ]
  },
  {
   "cell_type": "code",
   "execution_count": null,
   "metadata": {},
   "outputs": [],
   "source": [
    "speech = pollysvc.synthesize_speech(\n",
    "    OutputFormat='mp3',\n",
    "    Text='I am happy, to connect with RBS employees today and talk to you.',\n",
    "    VoiceId='Brian'\n",
    ")\n",
    "\n",
    "print(speech)\n",
    "audio = speech['AudioStream'].read()\n",
    "Audio(audio, autoplay=True)"
   ]
  },
  {
   "cell_type": "markdown",
   "metadata": {},
   "source": [
    "### You can have a lot of control over speed, loudness"
   ]
  },
  {
   "cell_type": "code",
   "execution_count": null,
   "metadata": {},
   "outputs": [],
   "source": [
    "speech_ssml = \"<speak>\"\n",
    "speech_ssml += 'I can speak in a <prosody pitch=\"high\">higher pitched voice</prosody>,'\n",
    "speech_ssml += ' or I can speak <prosody pitch=\"low\">in a lower pitched voice. </prosody>'\n",
    "speech_ssml += 'I can speak <prosody rate=\"x-slow\">really slowly</prosody>, '\n",
    "speech_ssml += ' or  I can speak <prosody rate=\"x-fast\">really fast. </prosody>'\n",
    "speech_ssml += 'I can also speak <prosody volume=\"x-loud\">very loudly</prosody>, '\n",
    "speech_ssml += ' or I can speak <prosody volume=\"x-soft\">very quietly. </prosody>'\n",
    "speech_ssml += 'I have a secret to tell you, I will whisper it to you.'\n",
    "speech_ssml += '<amazon:effect name=\"whispered\"><prosody rate=\"x-slow\"> <prosody volume=\"loud\">I am not human.</prosody></prosody></amazon:effect>Can you believe it?'\n",
    "speech_ssml += \"</speak>\"\n",
    "    \n",
    "speech = pollysvc.synthesize_speech(\n",
    "    OutputFormat='mp3',\n",
    "    Text=speech_ssml,\n",
    "    TextType=\"ssml\",\n",
    "    VoiceId='Aditi'\n",
    ")\n",
    "\n",
    "print(speech)\n",
    "audio = speech['AudioStream'].read()\n",
    "Audio(audio, autoplay=True)"
   ]
  },
  {
   "cell_type": "markdown",
   "metadata": {},
   "source": [
    "### Amazon Rekognition\n",
    "Service information can be found at https://aws.amazon.com/rekognition"
   ]
  },
  {
   "cell_type": "code",
   "execution_count": null,
   "metadata": {},
   "outputs": [],
   "source": [
    "s3_svc = boto3.resource('s3')\n",
    "\n",
    "bucket_name = \"madhudownloads\"\n",
    "jpgname = \"images/IMG_0494.jpg\"\n",
    "Image(url=\"https://s3.amazonaws.com/madhudownloads/\" + jpgname)\n"
   ]
  },
  {
   "cell_type": "markdown",
   "metadata": {},
   "source": [
    "### Detecting things in an image using Rekognition"
   ]
  },
  {
   "cell_type": "code",
   "execution_count": null,
   "metadata": {},
   "outputs": [],
   "source": [
    "vision_svc = boto3.client('rekognition')\n",
    "\n",
    "response = vision_svc.detect_labels(\n",
    "    Image={\n",
    "        'S3Object': {\n",
    "            'Bucket': 'madhudownloads',\n",
    "            'Name': jpgname\n",
    "        },\n",
    "    },\n",
    ")\n",
    "\n",
    "print(json.dumps(response, indent=4, sort_keys=True))"
   ]
  },
  {
   "cell_type": "markdown",
   "metadata": {},
   "source": [
    "### Detecting faces in an image using rekognition"
   ]
  },
  {
   "cell_type": "code",
   "execution_count": null,
   "metadata": {},
   "outputs": [],
   "source": [
    "response = vision_svc.detect_faces(\n",
    "    Image={\n",
    "        'S3Object': {\n",
    "            'Bucket': 'madhudownloads',\n",
    "            'Name': jpgname,\n",
    "        },\n",
    "    },\n",
    ")\n",
    "\n",
    "print(json.dumps(response, indent=4, sort_keys=True))"
   ]
  },
  {
   "cell_type": "markdown",
   "metadata": {},
   "source": [
    "### Detecting text in an image using rekognition"
   ]
  },
  {
   "cell_type": "code",
   "execution_count": null,
   "metadata": {},
   "outputs": [],
   "source": [
    "response = vision_svc.detect_text(\n",
    "    Image={\n",
    "        'S3Object': {\n",
    "            'Bucket': 'madhudownloads',\n",
    "            'Name': jpgname,\n",
    "        },\n",
    "    },\n",
    ")\n",
    "\n",
    "print(json.dumps(response, indent=4, sort_keys=True))"
   ]
  },
  {
   "cell_type": "markdown",
   "metadata": {},
   "source": [
    "## Amazon Translate"
   ]
  },
  {
   "cell_type": "markdown",
   "metadata": {
    "slideshow": {
     "slide_type": "slide"
    }
   },
   "source": [
    "### Demo of Translate Service\n",
    "Service Information: https://aws.amazon.com/translate/\n"
   ]
  },
  {
   "cell_type": "code",
   "execution_count": null,
   "metadata": {
    "slideshow": {
     "slide_type": "subslide"
    }
   },
   "outputs": [],
   "source": [
    "demo_text = \"Hello, this is a great event to connect with developers.  Loved the engagement and connect.\"\n",
    "demo_text = \"Hi, Whats up. How is the day going so far.\"\n",
    "\n",
    "translate = boto3.client(service_name='translate', region_name='us-east-1', endpoint_url='https://translate.us-east-1.amazonaws.com', use_ssl=True)\n",
    "\n",
    "result_de = translate.translate_text(Text=demo_text, SourceLanguageCode=\"en\", TargetLanguageCode=\"de\")\n",
    "result_fr = translate.translate_text(Text=demo_text, SourceLanguageCode=\"en\", TargetLanguageCode=\"fr\")\n",
    "\n",
    "print('Original Text: ' + demo_text)\n",
    "print(\"\")\n",
    "print('German Translation: ' + result_de.get('TranslatedText'))\n",
    "print(\"\")\n",
    "print('French Translation: ' + result_fr.get('TranslatedText'))\n",
    "\n"
   ]
  },
  {
   "cell_type": "markdown",
   "metadata": {},
   "source": [
    "### Amazon Comprehend (GA)\n",
    "Service URL = https://aws.amazon.com/comprehend\n",
    "\n",
    "#### Demo of Comprehend detecting Entities"
   ]
  },
  {
   "cell_type": "code",
   "execution_count": null,
   "metadata": {},
   "outputs": [],
   "source": [
    "comprehend = boto3.client(service_name='comprehend', region_name='us-east-1')\n",
    "text = \"It is raining in bangalore today.  I am at Royal Bank of Scotland and we are having fun.\"\n",
    "\n",
    "entities = json.dumps(comprehend.detect_entities(Text=text, LanguageCode='en'), sort_keys=True, indent=4)\n",
    "print(entities)"
   ]
  },
  {
   "cell_type": "code",
   "execution_count": null,
   "metadata": {},
   "outputs": [],
   "source": []
  }
 ],
 "metadata": {
  "kernelspec": {
   "display_name": "Python 3",
   "language": "python",
   "name": "python3"
  },
  "language_info": {
   "codemirror_mode": {
    "name": "ipython",
    "version": 3
   },
   "file_extension": ".py",
   "mimetype": "text/x-python",
   "name": "python",
   "nbconvert_exporter": "python",
   "pygments_lexer": "ipython3",
   "version": "3.6.4"
  }
 },
 "nbformat": 4,
 "nbformat_minor": 2
}
